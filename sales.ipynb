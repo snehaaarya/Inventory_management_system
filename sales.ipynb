{
  "nbformat": 4,
  "nbformat_minor": 0,
  "metadata": {
    "colab": {
      "name": "sales.ipynb",
      "provenance": [],
      "collapsed_sections": []
    },
    "kernelspec": {
      "name": "python3",
      "display_name": "Python 3"
    },
    "language_info": {
      "name": "python"
    }
  },
  "cells": [
    {
      "cell_type": "code",
      "metadata": {
        "id": "7Qf6LrmDARs1"
      },
      "source": [
        "# Importing json file\n",
        "import json\n"
      ],
      "execution_count": null,
      "outputs": []
    },
    {
      "cell_type": "code",
      "metadata": {
        "id": "S2g9s4jACKcT"
      },
      "source": [
        "# Opening record.json and loading it into records\n",
        "file=open('record.json','r')\n",
        "r=file.read()\n",
        "file.close()\n",
        "records=json.loads(r)"
      ],
      "execution_count": null,
      "outputs": []
    },
    {
      "cell_type": "code",
      "metadata": {
        "colab": {
          "base_uri": "https://localhost:8080/"
        },
        "id": "LkL7vN8HJH1n",
        "outputId": "4ccefa5b-df97-48fc-ae89-85289da5a2c8"
      },
      "source": [
        "# Printing records\n",
        "records"
      ],
      "execution_count": null,
      "outputs": [
        {
          "output_type": "execute_result",
          "data": {
            "text/plain": [
              "{'1001': {'brand': 'parachute',\n",
              "  'cate': 'cosmetic',\n",
              "  'name': 'hairoil',\n",
              "  'price': 85,\n",
              "  'quantity': 50},\n",
              " '1002': {'Quantity': 30,\n",
              "  'category': 'oralcare',\n",
              "  'name': 'toothpaste',\n",
              "  'price': 75},\n",
              " '1003': {'Quantity': 22,\n",
              "  'category': 'cosmetic',\n",
              "  'name': 'perfume',\n",
              "  'price': 200},\n",
              " '1004': {'Quantity': 12,\n",
              "  'category': 'cosmetic',\n",
              "  'name': 'face powder',\n",
              "  'price': 120},\n",
              " '1005': {'Quantity': 10,\n",
              "  'category': 'haircare',\n",
              "  'name': 'serum',\n",
              "  'price': 150},\n",
              " '1006': {'Quantity': 36,\n",
              "  'category': 'haircare',\n",
              "  'name': 'shampoo',\n",
              "  'price': 120},\n",
              " '1007': {'Quantity': 100,\n",
              "  'category': 'healthcare',\n",
              "  'name': 'sanitizer',\n",
              "  'price': 45},\n",
              " '1008': {'Quantity': 150,\n",
              "  'category': 'healthcare',\n",
              "  'name': 'mask',\n",
              "  'price': 30},\n",
              " '1009': {'Quantity': 16,\n",
              "  'category': 'cosmetic',\n",
              "  'name': 'moisturiser',\n",
              "  'price': 220},\n",
              " '1010': {'Quantity': 10,\n",
              "  'category': 'cosmetic',\n",
              "  'name': 'lotion',\n",
              "  'price': 300},\n",
              " '1011': {'Quantity': 10,\n",
              "  'category': 'cosmetic',\n",
              "  'name': 'cleanser',\n",
              "  'price': 170},\n",
              " '1012': {'Quantity': 100,\n",
              "  'category': 'foods',\n",
              "  'name': 'choco chips',\n",
              "  'price': 75},\n",
              " '1013': {'Quantity': 25,\n",
              "  'category': 'oralcare',\n",
              "  'name': 'mouth freshner',\n",
              "  'price': 85},\n",
              " '1014': {'Quantity': 200,\n",
              "  'category': 'stationery',\n",
              "  'name': 'pencil',\n",
              "  'price': 4},\n",
              " '1015': {'Quantity': 10,\n",
              "  'category': 'foods',\n",
              "  'name': 'cakemix',\n",
              "  'price': 180},\n",
              " '1016': {'Quantity': 40,\n",
              "  'category': 'electronics',\n",
              "  'name': 'battery',\n",
              "  'price': 20},\n",
              " '1017': {'Quantity': 38,\n",
              "  'category': 'stationery',\n",
              "  'name': 'book',\n",
              "  'price': 45},\n",
              " '1018': {'Quantity': 30, 'category': 'bodycare', 'name': 'soap', 'price': 55},\n",
              " '1019': {'Quantity': 100,\n",
              "  'category': 'laundry',\n",
              "  'name': 'detergent',\n",
              "  'price': 30},\n",
              " '1020': {'Quantity': 39,\n",
              "  'category': 'pharmacy',\n",
              "  'name': 'detol',\n",
              "  'price': 58},\n",
              " '1021': {'Quantity': 28, 'category': 'dairy', 'name': 'cheese', 'price': 70},\n",
              " '1023': {'Quantity': 50, 'category': 'dairy', 'name': 'butter', 'price': 65},\n",
              " '1024': {'Quantity': 44,\n",
              "  'category': 'frozen food',\n",
              "  'name': 'icecream',\n",
              "  'price': 50},\n",
              " '1025': {'Quantity': 22, 'category': 'foods', 'name': 'sauce', 'price': 85},\n",
              " '1026': {'Quantity': 80, 'category': 'snacks', 'name': 'lays', 'price': 20},\n",
              " '1027': {'Quantity': 100, 'category': 'cereals', 'name': 'oats', 'price': 95},\n",
              " '1028': {'Quantity': 30, 'category': 'cereal', 'name': 'rice', 'price': 100},\n",
              " '1029': {'Quantity': 80,\n",
              "  'category': 'stationary',\n",
              "  'name': 'pen',\n",
              "  'price': 10},\n",
              " '1030': {'Quantity': 70,\n",
              "  'category': 'cosmetic',\n",
              "  'name': 'deodrant',\n",
              "  'price': 180}}"
            ]
          },
          "metadata": {},
          "execution_count": 25
        }
      ]
    },
    {
      "cell_type": "code",
      "metadata": {
        "colab": {
          "base_uri": "https://localhost:8080/"
        },
        "id": "k9vD8CZLJlp0",
        "outputId": "3247e033-183e-4e3f-c9d4-741c964c913b"
      },
      "source": [
        "#Listing of the products \n",
        "print(\"list of products:\")\n",
        "for key in records:\n",
        "  print(key, \" \",records[key]['name'])"
      ],
      "execution_count": null,
      "outputs": [
        {
          "output_type": "stream",
          "name": "stdout",
          "text": [
            "list of products:\n",
            "1001   hairoil\n",
            "1002   toothpaste\n",
            "1003   perfume\n",
            "1004   face powder\n",
            "1005   serum\n",
            "1006   shampoo\n",
            "1007   sanitizer\n",
            "1008   mask\n",
            "1009   moisturiser\n",
            "1010   lotion\n",
            "1011   cleanser\n",
            "1012   choco chips\n",
            "1013   mouth freshner\n",
            "1014   pencil\n",
            "1015   cakemix\n",
            "1016   battery\n",
            "1017   book\n",
            "1018   soap\n",
            "1019   detergent\n",
            "1020   detol\n",
            "1021   cheese\n",
            "1023   butter\n",
            "1024   icecream\n",
            "1025   sauce\n",
            "1026   lays\n",
            "1027   oats\n",
            "1028   rice\n",
            "1029   pen\n",
            "1030   deodrant\n"
          ]
        }
      ]
    },
    {
      "cell_type": "code",
      "metadata": {
        "colab": {
          "base_uri": "https://localhost:8080/"
        },
        "id": "UPLCPaxE-I6w",
        "outputId": "c7dceedb-95ba-415c-d251-cd8e7c37d16f"
      },
      "source": [
        "# Checking if the id input by user is valid or not \n",
        "# and then checking if the quantity input by the user is available or not\n",
        "# if not available printing not in stock! else printing the bill.\n",
        "\n",
        "prod_id=(input(\"Enter the Product id:\"))\n",
        "Quantity=int(input(\"Enter the Quantity :\"))\n",
        "if prod_id not in records:\n",
        "  print(\"invalid product id!\")\n",
        "elif (Quantity > records[prod_id]['Quantity']) :\n",
        "  print(\" Not in stock!\")\n",
        "else:\n",
        "  print(\"name:\",records[prod_id]['name'])\n",
        "  print(\"price:\",records[prod_id]['price'])\n",
        "  print(\"category:\",records[prod_id][\"category\"])\n",
        "  print('*************************************')\n",
        "  print(\"Billing Amount:\",records[prod_id]['price']*Quantity)\n",
        "  print('*************************************')\n",
        "  records[prod_id]['Quantity']=records[prod_id]['Quantity'] - Quantity"
      ],
      "execution_count": null,
      "outputs": [
        {
          "output_type": "stream",
          "name": "stdout",
          "text": [
            "Enter the Product id:1006\n",
            "Enter the Quantity :10\n",
            "name: shampoo\n",
            "price: 120\n",
            "category: haircare\n",
            "*************************************\n",
            "Billing Amount: 1200\n",
            "*************************************\n"
          ]
        }
      ]
    },
    {
      "cell_type": "code",
      "metadata": {
        "id": "QMChmoYcmzYM"
      },
      "source": [
        "js=json.dumps(records)"
      ],
      "execution_count": null,
      "outputs": []
    },
    {
      "cell_type": "code",
      "metadata": {
        "id": "bZoWE42L2hme"
      },
      "source": [
        "file=open('record.json','w')\n",
        "file.write(js)\n",
        "file.close()"
      ],
      "execution_count": null,
      "outputs": []
    },
    {
      "cell_type": "code",
      "metadata": {
        "id": "7JDsQVqXUUQK"
      },
      "source": [
        "record={1001:{\"name\":'hairoil',\"Quantity\":'50',\"price\":'price'}}"
      ],
      "execution_count": null,
      "outputs": []
    },
    {
      "cell_type": "code",
      "metadata": {
        "colab": {
          "base_uri": "https://localhost:8080/"
        },
        "id": "8zU9z-PQU828",
        "outputId": "48f69fa8-c3f8-45cd-ac51-be18a9a04eb4"
      },
      "source": [
        "record"
      ],
      "execution_count": null,
      "outputs": [
        {
          "output_type": "execute_result",
          "data": {
            "text/plain": [
              "{1001: {'Quantity': '50', 'name': 'hairoil', 'price': 'price'}}"
            ]
          },
          "metadata": {},
          "execution_count": 9
        }
      ]
    },
    {
      "cell_type": "code",
      "metadata": {
        "id": "R1C4fuT6VK8M"
      },
      "source": [
        "import json\n"
      ],
      "execution_count": null,
      "outputs": []
    },
    {
      "cell_type": "code",
      "metadata": {
        "colab": {
          "base_uri": "https://localhost:8080/"
        },
        "id": "_xRne2c8VZ0i",
        "outputId": "2d592afe-6390-43ff-d3f2-dd3182349c31"
      },
      "source": [
        "stock=json.dumps(record)\n",
        "print(stock)"
      ],
      "execution_count": null,
      "outputs": [
        {
          "output_type": "stream",
          "name": "stdout",
          "text": [
            "{\"1001\": {\"name\": \"hairoil\", \"Quantity\": \"50\", \"price\": \"price\"}}\n"
          ]
        }
      ]
    },
    {
      "cell_type": "code",
      "metadata": {
        "id": "gNErWcJMW5w2"
      },
      "source": [
        "file=open(\"stock.json\",'r')\n",
        "r=file.read()\n",
        "file.close()"
      ],
      "execution_count": null,
      "outputs": []
    },
    {
      "cell_type": "code",
      "metadata": {
        "id": "POcRJnkFZtiX"
      },
      "source": [
        ""
      ],
      "execution_count": null,
      "outputs": []
    }
  ]
}