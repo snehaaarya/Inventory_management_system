{
  "nbformat": 4,
  "nbformat_minor": 0,
  "metadata": {
    "colab": {
      "name": "IMS.ipynb",
      "provenance": [],
      "collapsed_sections": []
    },
    "kernelspec": {
      "name": "python3",
      "display_name": "Python 3"
    },
    "language_info": {
      "name": "python"
    }
  },
  "cells": [
    {
      "cell_type": "code",
      "metadata": {
        "id": "7_V4UkKp3Afa"
      },
      "source": [
        "\n",
        "record={1001:{'name':'hairoil', 'price':85,'quantity':50,'brand':'parachute','cate':'cosmetic',}}"
      ],
      "execution_count": null,
      "outputs": []
    },
    {
      "cell_type": "code",
      "metadata": {
        "colab": {
          "base_uri": "https://localhost:8080/"
        },
        "id": "9vdmDOgz5nwM",
        "outputId": "402c7902-bb6c-41c7-f050-cdbecdf290f6"
      },
      "source": [
        "print(record)\n",
        "\n",
        "# Importing json file\n",
        "import json\n",
        "\n",
        "records=json.dumps(record)\n",
        "print(records)"
      ],
      "execution_count": null,
      "outputs": [
        {
          "output_type": "stream",
          "name": "stdout",
          "text": [
            "{1001: {'name': 'hairoil', 'price': 85, 'quantity': 50, 'brand': 'parachute', 'cate': 'cosmetic'}}\n",
            "{\"1001\": {\"name\": \"hairoil\", \"price\": 85, \"quantity\": 50, \"brand\": \"parachute\", \"cate\": \"cosmetic\"}}\n"
          ]
        }
      ]
    },
    {
      "cell_type": "code",
      "metadata": {
        "id": "kPC483ed7q72"
      },
      "source": [
        "# Opening record.json and loading it into records\n",
        "\n",
        "file = open('record.json','r')\n",
        "r=file.read()\n",
        "file.close()\n",
        "\n",
        "records=json.loads(r)"
      ],
      "execution_count": null,
      "outputs": []
    },
    {
      "cell_type": "code",
      "metadata": {
        "colab": {
          "base_uri": "https://localhost:8080/"
        },
        "id": "tYWUifuw75GN",
        "outputId": "df26b89c-7221-4d7d-a5d3-d76ed68c45cf"
      },
      "source": [
        "# Print records\n",
        "records"
      ],
      "execution_count": null,
      "outputs": [
        {
          "output_type": "execute_result",
          "data": {
            "text/plain": [
              "{'1001': {'brand': 'parachute',\n",
              "  'cate': 'cosmetic',\n",
              "  'name': 'hairoil',\n",
              "  'price': 85,\n",
              "  'quantity': 50},\n",
              " '1002': {'Quantity': 30,\n",
              "  'category': 'oralcare',\n",
              "  'name': 'toothpaste',\n",
              "  'price': 75},\n",
              " '1003': {'Quantity': 22,\n",
              "  'category': 'cosmetic',\n",
              "  'name': 'perfume',\n",
              "  'price': 200},\n",
              " '1004': {'Quantity': 12,\n",
              "  'category': 'cosmetic',\n",
              "  'name': 'face powder',\n",
              "  'price': 120},\n",
              " '1005': {'Quantity': 10,\n",
              "  'category': 'haircare',\n",
              "  'name': 'serum',\n",
              "  'price': 150},\n",
              " '1006': {'Quantity': 36,\n",
              "  'category': 'haircare',\n",
              "  'name': 'shampoo',\n",
              "  'price': 120},\n",
              " '1007': {'Quantity': 100,\n",
              "  'category': 'healthcare',\n",
              "  'name': 'sanitizer',\n",
              "  'price': 45},\n",
              " '1008': {'Quantity': 150,\n",
              "  'category': 'healthcare',\n",
              "  'name': 'mask',\n",
              "  'price': 30},\n",
              " '1009': {'Quantity': 16,\n",
              "  'category': 'cosmetic',\n",
              "  'name': 'moisturiser',\n",
              "  'price': 220},\n",
              " '1010': {'Quantity': 20,\n",
              "  'category': 'cosmetic',\n",
              "  'name': 'lotion',\n",
              "  'price': 300},\n",
              " '1011': {'Quantity': 10,\n",
              "  'category': 'cosmetic',\n",
              "  'name': 'cleanser',\n",
              "  'price': 170},\n",
              " '1012': {'Quantity': 100,\n",
              "  'category': 'foods',\n",
              "  'name': 'choco chips',\n",
              "  'price': 75},\n",
              " '1013': {'Quantity': 25,\n",
              "  'category': 'oralcare',\n",
              "  'name': 'mouth freshner',\n",
              "  'price': 85},\n",
              " '1014': {'Quantity': 200,\n",
              "  'category': 'stationery',\n",
              "  'name': 'pencil',\n",
              "  'price': 4},\n",
              " '1015': {'Quantity': 10,\n",
              "  'category': 'foods',\n",
              "  'name': 'cakemix',\n",
              "  'price': 180},\n",
              " '1016': {'Quantity': 40,\n",
              "  'category': 'electronics',\n",
              "  'name': 'battery',\n",
              "  'price': 20},\n",
              " '1017': {'Quantity': 38,\n",
              "  'category': 'stationery',\n",
              "  'name': 'book',\n",
              "  'price': 45},\n",
              " '1018': {'Quantity': 30, 'category': 'bodycare', 'name': 'soap', 'price': 55},\n",
              " '1019': {'Quantity': 100,\n",
              "  'category': 'laundry',\n",
              "  'name': 'detergent',\n",
              "  'price': 30},\n",
              " '1020': {'Quantity': 39,\n",
              "  'category': 'pharmacy',\n",
              "  'name': 'detol',\n",
              "  'price': 58},\n",
              " '1021': {'Quantity': 28, 'category': 'dairy', 'name': 'cheese', 'price': 70},\n",
              " '1023': {'Quantity': 50, 'category': 'dairy', 'name': 'butter', 'price': 65},\n",
              " '1024': {'Quantity': 44,\n",
              "  'category': 'frozen food',\n",
              "  'name': 'icecream',\n",
              "  'price': 50},\n",
              " '1025': {'Quantity': 22, 'category': 'foods', 'name': 'sauce', 'price': 85},\n",
              " '1026': {'Quantity': 80, 'category': 'snacks', 'name': 'lays', 'price': 20},\n",
              " '1027': {'Quantity': 100, 'category': 'cereals', 'name': 'oats', 'price': 95},\n",
              " '1028': {'Quantity': 30, 'category': 'cereal', 'name': 'rice', 'price': 100},\n",
              " '1029': {'Quantity': 80,\n",
              "  'category': 'stationary',\n",
              "  'name': 'pen',\n",
              "  'price': 10},\n",
              " '1030': {'Quantity': 70,\n",
              "  'category': 'cosmetic',\n",
              "  'name': 'deodrant',\n",
              "  'price': 180}}"
            ]
          },
          "metadata": {},
          "execution_count": 5
        }
      ]
    },
    {
      "cell_type": "code",
      "metadata": {
        "colab": {
          "base_uri": "https://localhost:8080/"
        },
        "id": "M8uVg8Rw7-gK",
        "outputId": "7042bb65-70cd-4ae3-a7af-00653a44711d"
      },
      "source": [
        "# Getting input from user and feeding it into json file.\n",
        "\n",
        "prod_id=int(input(\"Enter the product id:\"))\n",
        "name=str(input(\"Enter the name of the product:\"))\n",
        "price=int(input(\"Enter the price:\"))\n",
        "Quantity=int(input(\"Enter the Quantity:\"))\n",
        "category=str(input(\"Enter category:\"))\n",
        "\n",
        "record[prod_id]={'name':name,'price':price,'Quantity':Quantity,'category':category}\n",
        "\n",
        "js=json.dumps(record)\n",
        "\n",
        "file=open('record.json','w')\n",
        "file.write(js)\n",
        "file.close()\n",
        "\n"
      ],
      "execution_count": null,
      "outputs": [
        {
          "name": "stdout",
          "output_type": "stream",
          "text": [
            "Enter the product id:1030\n",
            "Enter the name of the product:deodrant\n",
            "Enter the price:180\n",
            "Enter the Quantity:70\n",
            "Enter category:cosmetic\n"
          ]
        }
      ]
    },
    {
      "cell_type": "code",
      "metadata": {
        "id": "MsAb9Y3_-7Us"
      },
      "source": [
        ""
      ],
      "execution_count": null,
      "outputs": []
    }
  ]
}